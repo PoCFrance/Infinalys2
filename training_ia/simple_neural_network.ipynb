{
 "cells": [
  {
   "cell_type": "markdown",
   "metadata": {},
   "source": [
    "## Import"
   ]
  },
  {
   "cell_type": "code",
   "execution_count": 2,
   "metadata": {},
   "outputs": [],
   "source": [
    "# Matplotlib\n",
    "import matplotlib.pyplot\n",
    "# Tensorflow\n",
    "import tensorflow\n",
    "# Numpy and Pandas\n",
    "import numpy\n",
    "import pandas\n",
    "# Ohter import\n",
    "import sys"
   ]
  },
  {
   "cell_type": "markdown",
   "metadata": {},
   "source": [
    "## Be sure to used Tensorflow 2.0"
   ]
  },
  {
   "cell_type": "code",
   "execution_count": 4,
   "metadata": {},
   "outputs": [],
   "source": [
    "assert hasattr(tensorflow, \"function\") # Be sure to use tensorflow 2.0"
   ]
  },
  {
   "cell_type": "markdown",
   "metadata": {},
   "source": [
    "## Load the dataset: Fashion MNIST"
   ]
  },
  {
   "cell_type": "markdown",
   "metadata": {},
   "source": [
    "![](https://storage.googleapis.com/kaggle-datasets-images/2243/3791/9384af51de8baa77f6320901f53bd26b/dataset-cover.png)"
   ]
  },
  {
   "cell_type": "code",
   "execution_count": 16,
   "metadata": {
    "scrolled": true
   },
   "outputs": [
    {
     "name": "stdout",
     "output_type": "stream",
     "text": [
      "(10000, 784)\n",
      "(10000,)\n"
     ]
    }
   ],
   "source": [
    "from sklearn.preprocessing import StandardScaler\n",
    "\n",
    "# Fashio MNIST\n",
    "fashion_mnist = tensorflow.keras.datasets.fashion_mnist\n",
    "(images, targets), (images_test, targets_test) = fashion_mnist.load_data()\n",
    "\n",
    "# Get only a subpart of the dataset\n",
    "images = images[:10000]\n",
    "targets = targets [:10000]\n",
    "\n",
    "# Reshape the dataset and convert to float\n",
    "images = images.reshape(-1, 784)\n",
    "images = images.astype(float)\n",
    "images_test = images_test.reshape(-1, 784)\n",
    "images_test = images_test.astype(float)\n",
    "\n",
    "scaler = StandardScaler()\n",
    "images = scaler.fit_transform(images)\n",
    "images_test = scaler.transform(images_test)\n",
    "\n",
    "print(images.shape)\n",
    "print(targets.shape)"
   ]
  },
  {
   "cell_type": "markdown",
   "metadata": {},
   "source": [
    "## Plot one of the data"
   ]
  },
  {
   "cell_type": "code",
   "execution_count": 32,
   "metadata": {},
   "outputs": [
    {
     "data": {
      "image/png": "[encoded data removed]",
      "text/plain": [
       "<Figure size 432x288 with 1 Axes>"
      ]
     },
     "metadata": {
      "needs_background": "light"
     },
     "output_type": "display_data"
    }
   ],
   "source": [
    "targets_names = [\"T-shirt/top\", \"Trouser\", \"Pullover\", \"Dress\", \"Coat\", \"Sandal\", \n",
    "                 \"Shirt\", \"Sneaker\", \"Bag\", \"Ankle boot\"\n",
    "]\n",
    "# Plot one image\n",
    "matplotlib.pyplot.imshow(numpy.reshape(images[12], (28, 28)), cmap=\"binary\")\n",
    "matplotlib.pyplot.title(targets_names[targets[13]])\n",
    "matplotlib.pyplot.show()"
   ]
  },
  {
   "cell_type": "markdown",
   "metadata": {},
   "source": [
    "# Create the model\n",
    "![](images/simple_nn.png)"
   ]
  },
  {
   "cell_type": "markdown",
   "metadata": {},
   "source": [
    "# Create the model"
   ]
  },
  {
   "cell_type": "code",
   "execution_count": 34,
   "metadata": {},
   "outputs": [
    {
     "name": "stdout",
     "output_type": "stream",
     "text": [
      "[[0.09655568 0.00934271 0.06220656 0.2370883  0.01681989 0.01151555\n",
      "  0.00467264 0.01838324 0.12996402 0.4134515 ]] [9]\n"
     ]
    }
   ],
   "source": [
    "# Flatten\n",
    "model = tensorflow.keras.models.Sequential()\n",
    "\n",
    "# Add the layers\n",
    "model.add(tensorflow.keras.layers.Dense(256, activation=\"relu\"))\n",
    "model.add(tensorflow.keras.layers.Dense(128, activation=\"relu\"))\n",
    "model.add(tensorflow.keras.layers.Dense(10, activation=\"softmax\"))\n",
    "\n",
    "model_output = model.predict(images[0:1])\n",
    "print(model_output, targets[0:1])"
   ]
  },
  {
   "cell_type": "markdown",
   "metadata": {},
   "source": [
    "## Model Summary"
   ]
  },
  {
   "cell_type": "code",
   "execution_count": 36,
   "metadata": {},
   "outputs": [
    {
     "name": "stdout",
     "output_type": "stream",
     "text": [
      "Model: \"sequential_3\"\n",
      "_________________________________________________________________\n",
      "Layer (type)                 Output Shape              Param #   \n",
      "=================================================================\n",
      "dense_9 (Dense)              multiple                  200960    \n",
      "_________________________________________________________________\n",
      "dense_10 (Dense)             multiple                  32896     \n",
      "_________________________________________________________________\n",
      "dense_11 (Dense)             multiple                  1290      \n",
      "=================================================================\n",
      "Total params: 235,146\n",
      "Trainable params: 235,146\n",
      "Non-trainable params: 0\n",
      "_________________________________________________________________\n"
     ]
    }
   ],
   "source": [
    "model.summary()"
   ]
  },
  {
   "cell_type": "markdown",
   "metadata": {},
   "source": [
    "## Compile the model"
   ]
  },
  {
   "cell_type": "code",
   "execution_count": 43,
   "metadata": {},
   "outputs": [],
   "source": [
    "# Compile the model\n",
    "model.compile(\n",
    "    loss=\"sparse_categorical_crossentropy\",\n",
    "    optimizer=\"sgd\",\n",
    "    metrics=[\"accuracy\"]\n",
    ")"
   ]
  },
  {
   "cell_type": "markdown",
   "metadata": {},
   "source": [
    "## Train the model"
   ]
  },
  {
   "cell_type": "code",
   "execution_count": 44,
   "metadata": {},
   "outputs": [
    {
     "name": "stdout",
     "output_type": "stream",
     "text": [
      "Train on 8000 samples, validate on 2000 samples\n",
      "Epoch 1/10\n",
      "8000/8000 [==============================] - 1s 64us/sample - loss: 0.5381 - accuracy: 0.8165 - val_loss: 0.5872 - val_accuracy: 0.7975\n",
      "Epoch 2/10\n",
      "8000/8000 [==============================] - 1s 68us/sample - loss: 0.5230 - accuracy: 0.8200 - val_loss: 0.5755 - val_accuracy: 0.8010\n",
      "Epoch 3/10\n",
      "8000/8000 [==============================] - 1s 66us/sample - loss: 0.5097 - accuracy: 0.8239 - val_loss: 0.5651 - val_accuracy: 0.8035\n",
      "Epoch 4/10\n",
      "8000/8000 [==============================] - 1s 72us/sample - loss: 0.4977 - accuracy: 0.8273 - val_loss: 0.5548 - val_accuracy: 0.8060\n",
      "Epoch 5/10\n",
      "8000/8000 [==============================] - 1s 75us/sample - loss: 0.4867 - accuracy: 0.8314 - val_loss: 0.5471 - val_accuracy: 0.8035\n",
      "Epoch 6/10\n",
      "8000/8000 [==============================] - 1s 65us/sample - loss: 0.4770 - accuracy: 0.8354 - val_loss: 0.5400 - val_accuracy: 0.8060\n",
      "Epoch 7/10\n",
      "8000/8000 [==============================] - 0s 57us/sample - loss: 0.4678 - accuracy: 0.8372 - val_loss: 0.5322 - val_accuracy: 0.8125\n",
      "Epoch 8/10\n",
      "8000/8000 [==============================] - 0s 60us/sample - loss: 0.4594 - accuracy: 0.8410 - val_loss: 0.5263 - val_accuracy: 0.8120\n",
      "Epoch 9/10\n",
      "8000/8000 [==============================] - 1s 63us/sample - loss: 0.4513 - accuracy: 0.8436 - val_loss: 0.5206 - val_accuracy: 0.8140\n",
      "Epoch 10/10\n",
      "8000/8000 [==============================] - 1s 74us/sample - loss: 0.4439 - accuracy: 0.8464 - val_loss: 0.5145 - val_accuracy: 0.8145\n"
     ]
    }
   ],
   "source": [
    "history = model.fit(images, targets, epochs=10, validation_split=0.2)"
   ]
  },
  {
   "cell_type": "code",
   "execution_count": 45,
   "metadata": {},
   "outputs": [
    {
     "data": {
      "image/png": "[encoded data removed]",
      "text/plain": [
       "<Figure size 432x288 with 1 Axes>"
      ]
     },
     "metadata": {
      "needs_background": "light"
     },
     "output_type": "display_data"
    },
    {
     "data": {
      "image/png": "[encoded data removed]",
      "text/plain": [
       "<Figure size 432x288 with 1 Axes>"
      ]
     },
     "metadata": {
      "needs_background": "light"
     },
     "output_type": "display_data"
    }
   ],
   "source": [
    "loss_curve = history.history[\"loss\"]\n",
    "acc_curve = history.history[\"accuracy\"]\n",
    "\n",
    "loss_val_curve = history.history[\"val_loss\"]\n",
    "acc_val_curve = history.history[\"val_accuracy\"]\n",
    "\n",
    "matplotlib.pyplot.plot(loss_curve, label=\"Train\")\n",
    "matplotlib.pyplot.plot(loss_val_curve, label=\"Val\")\n",
    "matplotlib.pyplot.legend(loc='upper left')\n",
    "matplotlib.pyplot.title(\"Loss\")\n",
    "matplotlib.pyplot.show()\n",
    "\n",
    "matplotlib.pyplot.plot(acc_curve, label=\"Train\")\n",
    "matplotlib.pyplot.plot(acc_val_curve, label=\"Val\")\n",
    "matplotlib.pyplot.legend(loc='upper left')\n",
    "matplotlib.pyplot.title(\"Accuracy\")\n",
    "matplotlib.pyplot.show()"
   ]
  },
  {
   "cell_type": "code",
   "execution_count": 46,
   "metadata": {},
   "outputs": [
    {
     "name": "stdout",
     "output_type": "stream",
     "text": [
      "10000/10000 [==============================] - 0s 26us/sample - loss: 0.5329 - accuracy: 0.8123\n",
      "Test Loss 0.532907742023468\n",
      "Test Accuracy 0.8123\n"
     ]
    }
   ],
   "source": [
    "loss, acc = model.evaluate(images_test, targets_test)\n",
    "print(\"Test Loss\", loss)\n",
    "print(\"Test Accuracy\", acc)"
   ]
  },
  {
   "cell_type": "code",
   "execution_count": null,
   "metadata": {},
   "outputs": [],
   "source": []
  }
 ],
 "metadata": {
  "kernelspec": {
   "display_name": "Python 3",
   "language": "python",
   "name": "python3"
  },
  "language_info": {
   "codemirror_mode": {
    "name": "ipython",
    "version": 3
   },
   "file_extension": ".py",
   "mimetype": "text/x-python",
   "name": "python",
   "nbconvert_exporter": "python",
   "pygments_lexer": "ipython3",
   "version": "3.7.6"
  }
 },
 "nbformat": 4,
 "nbformat_minor": 2
}
