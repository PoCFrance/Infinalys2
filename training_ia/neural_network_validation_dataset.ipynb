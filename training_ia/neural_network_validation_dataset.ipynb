{
 "cells": [
  {
   "cell_type": "markdown",
   "metadata": {},
   "source": [
    "## Import"
   ]
  },
  {
   "cell_type": "code",
   "execution_count": 2,
   "metadata": {},
   "outputs": [],
   "source": [
    "# Matplotlib\n",
    "import matplotlib.pyplot\n",
    "# Tensorflow\n",
    "import tensorflow\n",
    "# Numpy and Pandas\n",
    "import numpy\n",
    "import pandas\n",
    "# Ohter import\n",
    "import sys\n",
    "\n",
    "\n",
    "from sklearn.preprocessing import StandardScaler\n"
   ]
  },
  {
   "cell_type": "markdown",
   "metadata": {},
   "source": [
    "## Be sure to used Tensorflow 2.0"
   ]
  },
  {
   "cell_type": "code",
   "execution_count": 3,
   "metadata": {},
   "outputs": [],
   "source": [
    "assert hasattr(tensorflow, \"function\") # Be sure to use tensorflow 2.0"
   ]
  },
  {
   "cell_type": "markdown",
   "metadata": {},
   "source": [
    "## Load the dataset: Fashion MNIST"
   ]
  },
  {
   "cell_type": "markdown",
   "metadata": {},
   "source": [
    "![](https://storage.googleapis.com/kaggle-datasets-images/2243/3791/9384af51de8baa77f6320901f53bd26b/dataset-cover.png)"
   ]
  },
  {
   "cell_type": "code",
   "execution_count": 4,
   "metadata": {},
   "outputs": [
    {
     "name": "stdout",
     "output_type": "stream",
     "text": [
      "(8000, 784) (8000,)\n",
      "(2000, 784) (2000,)\n"
     ]
    }
   ],
   "source": [
    "from sklearn.model_selection import train_test_split\n",
    "\n",
    "# Fashio MNIST\n",
    "fashion_mnist = tensorflow.keras.datasets.fashion_mnist\n",
    "(images, targets), (_, _) = fashion_mnist.load_data()\n",
    "# Get only a subpart of the dataset\n",
    "# Get only a subpart\n",
    "images = images[:10000]\n",
    "targets = targets [:10000]\n",
    "\n",
    "images = images.reshape(-1, 784)\n",
    "images = images.astype(float)\n",
    "scaler = StandardScaler()\n",
    "images = scaler.fit_transform(images)\n",
    "\n",
    "images_train, images_test, targets_train, targets_test = train_test_split(images, targets, test_size=0.2, random_state=1)\n",
    "\n",
    "print(images_train.shape, targets_train.shape)\n",
    "print(images_test.shape, targets_test.shape)"
   ]
  },
  {
   "cell_type": "markdown",
   "metadata": {},
   "source": [
    "## Plot one of the data"
   ]
  },
  {
   "cell_type": "code",
   "execution_count": 8,
   "metadata": {},
   "outputs": [
    {
     "data": {
      "image/png": "[encoded data removed]",
      "text/plain": [
       "<Figure size 432x288 with 1 Axes>"
      ]
     },
     "metadata": {
      "needs_background": "light"
     },
     "output_type": "display_data"
    }
   ],
   "source": [
    "targets_names = [\"T-shirt/top\", \"Trouser\", \"Pullover\", \"Dress\", \"Coat\", \"Sandal\", \n",
    "                 \"Shirt\", \"Sneaker\", \"Bag\", \"Ankle boot\"\n",
    "]\n",
    "# Plot one image\n",
    "matplotlib.pyplot.imshow(images[10].reshape(28, 28), cmap=\"binary\")\n",
    "matplotlib.pyplot.title(targets_names[targets[10]])\n",
    "matplotlib.pyplot.title(targets_names[targets[10]])\n",
    "matplotlib.pyplot.show()"
   ]
  },
  {
   "cell_type": "code",
   "execution_count": 9,
   "metadata": {},
   "outputs": [
    {
     "name": "stdout",
     "output_type": "stream",
     "text": [
      "First line of one image [-0.01426971 -0.02645579 -0.029489   -0.04635542 -0.06156617 -0.07641125\n",
      " -0.10509579 -0.16410192 -0.23986957 -0.36929666 -0.57063232 -0.6909092\n",
      " -0.7582382  -0.74450346 -0.17093142  0.80572169  0.60465021  0.69474334\n",
      "  0.01007169 -0.32085836 -0.20882718 -0.14379861 -0.11434416 -0.09302065\n",
      "  0.08584529 -0.04969764 -0.03368099 -0.01591863 -0.0181322  -0.02297209\n",
      " -0.03365679 -0.05814043 -0.08287213 -0.13053264 -0.2464668  -0.35905423\n",
      " -0.48335079 -0.63909239 -0.83575443 -0.98917162 -1.08347998 -1.07712864\n",
      "  0.7931674   1.2496451   1.35025207  1.68512162  1.97595936  1.43181167\n",
      "  2.97956664  4.68907298  4.88750284  0.23595608 -0.11565956  0.14562865\n",
      " -0.06100298 -0.03312088 -0.01964757 -0.02793878 -0.0481181  -0.07617253\n",
      " -0.12670992 -0.26684818 -0.39945708 -0.49720396 -0.62326614 -0.8195795\n",
      " -0.99379417 -1.04759214 -1.10371252 -1.10221791  1.08283564  1.22639277\n",
      "  1.35310524  1.34234162  1.66433217  2.15862735  2.75297169  3.22113197\n",
      "  4.62472272  3.87445967 -0.16599094  0.32418594 -0.087733   -0.0526323\n",
      " -0.02862848 -0.04242726 -0.06957184 -0.10501986 -0.21177968 -0.36570732\n",
      " -0.50377706 -0.63129117 -0.7545061  -0.92782181 -1.04671762 -1.04884575\n",
      " -1.10753111 -1.03315535  1.43294532  1.33033833  1.39162212  1.50249446\n",
      "  1.41472555  1.48664927  2.19750146  2.5207204   3.23681206  0.32439317\n",
      " -0.22921786  0.08719395 -0.11524194 -0.06595022 -0.03978101 -0.06151816\n",
      " -0.09394236 -0.14485093 -0.28258668 -0.45013464 -0.60762152 -0.70866125\n",
      " -0.80845132 -0.97106764 -1.06309306 -1.04395211 -1.11950469 -0.35989804\n",
      "  1.56262616  1.30932327  1.41614857  1.49002634  1.44030778  1.4974615\n",
      "  2.02811047  2.22341936  2.1189369   0.28273308  0.22687411 -0.22359138\n",
      " -0.07278968 -0.09631577 -0.05785819 -0.08665899 -0.12303533 -0.19276323\n",
      " -0.34094366 -0.53007774 -0.6636926  -0.76166986 -0.85810993 -1.01973474\n",
      " -1.10359032 -1.13389127 -1.13797187  0.19728184  1.30491585  1.12589712\n",
      "  1.56101992  1.5471799   1.35519155  1.61848413  1.8686844   1.86320923\n",
      "  0.84284685  1.09578392  0.74105846 -0.28563328 -0.1131897  -0.11759717\n",
      " -0.07138681 -0.10484842 -0.15218768 -0.23983624 -0.39446008 -0.58540856\n",
      " -0.70817066 -0.80613957 -0.8912735  -1.04743568 -1.11648233 -1.16203361\n",
      " -1.16480491  0.86892733  1.27412159  0.8998086   0.74428789  1.13274167\n",
      "  1.14002008  1.64475384  1.22579108  1.87626568  0.72713619 -0.21425058\n",
      " -0.44976207 -0.3588039  -0.26052139 -0.14642704 -0.09057754 -0.12852483\n",
      " -0.17658578 -0.27962415 -0.43604854 -0.62328729 -0.74417079 -0.83698675\n",
      " -0.91538507 -1.05836072 -1.09984451 -1.18744141 -1.19142578  1.24141786\n",
      "  1.39079751  1.49192297  1.27955426  1.30948745  1.17061076  0.86607308\n",
      "  1.27421913  0.79750725 -0.86719519 -0.69061632 -0.50423389 -0.42229875\n",
      " -0.30440602 -0.16353165 -0.09817535 -0.14372941 -0.20517067 -0.30866173\n",
      " -0.4655249  -0.65221334 -0.76683863 -0.85659993 -0.93256978 -1.06226401\n",
      " -1.15171237 -1.21294298 -0.55403601  1.46120819  0.97836915  1.05122066\n",
      "  1.2521523   1.05790293  1.35951983  0.90500191  1.55701257  0.82622186\n",
      " -0.93881345 -0.7662494  -0.57465574 -0.48552019 -0.34738009 -0.18855983\n",
      " -0.10483514 -0.16127624 -0.22554475 -0.32839989 -0.48754623 -0.66943952\n",
      " -0.77552861 -0.86498292 -0.94273549 -1.06015652 -1.18041842 -1.23791689\n",
      "  0.42552833  1.46179792  0.99490898  0.75506225  0.87837333  0.82699162\n",
      "  1.09938829  0.76830616  1.48553714 -0.13338616  0.50592885 -0.83182562\n",
      " -0.65812    -0.54406795 -0.39662058 -0.21430757 -0.11419072 -0.17789518\n",
      " -0.23568605 -0.33542269 -0.5026126  -0.67620553 -0.77596799 -0.86788207\n",
      " -0.94980187 -1.03197874 -1.22037631 -1.30832137  1.13203817  1.20044543\n",
      "  1.26727922  1.22318096  1.33469514  1.2591838   1.27789102  0.95415321\n",
      "  1.45083593 -1.14975179 -0.0817779   1.07590662 -0.71352465 -0.61851141\n",
      " -0.45102226 -0.23988228 -0.1324622  -0.1914184  -0.23850724 -0.33502594\n",
      " -0.50210849 -0.67112987 -0.76673944 -0.8616405  -0.96676107 -1.0848351\n",
      " -1.3330483  -0.93497502  1.45610367  1.06754889  1.26636853  1.12103986\n",
      "  0.83294083  1.32533583  0.96137914  0.8823002   1.43281281  1.19611371\n",
      " -0.78940528  1.86544193 -0.74636813 -0.65262812 -0.50618527 -0.26376513\n",
      " -0.14691646 -0.20208667 -0.24647794 -0.34047837 -0.50463299 -0.66562681\n",
      " -0.76193944 -0.87453007 -1.02396861 -1.2315534  -1.51364781 -0.22477969\n",
      "  1.36864633  0.97874683  1.13715509  1.05688341  0.99487436  1.40832046\n",
      "  0.59156431  0.94867054  1.34348434  1.46512153  0.55580094  1.79155088\n",
      "  1.05012863 -0.67067287 -0.54930031 -0.2968015  -0.15491047 -0.21450816\n",
      " -0.261535   -0.36080841 -0.53730463 -0.70325988 -0.81421065 -0.94111069\n",
      " -1.08418556 -1.34365865 -1.53886075  1.09326051  0.72413821  1.27757173\n",
      "  1.36520155  1.17770547  1.0023395   1.39555822  0.29493432  1.10901936\n",
      "  1.36430898  1.27440447  1.52040376  1.40357315  1.72718391  0.1853037\n",
      " -0.57266526 -0.33349732 -0.18106813 -0.27035229 -0.32539614 -0.42952929\n",
      " -0.61751986 -0.7906786  -0.89035399 -0.99618473 -1.1655271  -1.43209714\n",
      " -0.09950582  1.43909587  0.80004613  0.88559108  1.40804576  1.33663711\n",
      "  1.00766279  1.4018325   0.27208395  1.09470572  1.42729615  1.26618628\n",
      "  1.41174747  1.45821099  1.71015214  1.01925997  0.4601322  -0.36757044\n",
      " -0.24958781 -0.3531048  -0.40241884 -0.49907564 -0.69135965 -0.85359971\n",
      " -0.9331706  -1.0059672  -1.2177602  -1.54149264  1.06742005  1.19680318\n",
      "  1.16583857  1.04905231  0.80970041  1.20411735  1.24623527  0.93697892\n",
      "  0.42037146  1.01432568  1.45360261  1.25038614  1.51241082  1.47613898\n",
      "  0.92463771 -0.70060342 -0.62144365 -0.39567218 -0.31147884 -0.40192164\n",
      " -0.45021433 -0.54773943 -0.75003079 -0.889456   -0.98063839 -1.07747814\n",
      " -1.29340698 -0.73928768  1.42310729  1.18867558  1.29652988  1.37945647\n",
      "  1.18486113  0.53438163  0.56912652  1.05669556  0.45154219  0.81022867\n",
      "  1.44123053  1.22117476  1.51323768  1.10025946 -0.84443622 -0.71082151\n",
      " -0.62981211 -0.41576178 -0.33145798 -0.4375847  -0.49080625 -0.59254976\n",
      " -0.79668158 -0.93801891 -1.02130727 -1.11492415 -1.35022588  0.83375288\n",
      "  0.9741596   0.4062541   0.82345526  0.99971607  1.41325802  1.38631373\n",
      "  0.82115561  1.03621816  1.37633608  1.41019057  1.43307373  1.33830106\n",
      "  1.56303358  1.2326212  -0.83324214 -0.68996128 -0.60036851 -0.41411856\n",
      " -0.30332172 -0.43661943 -0.50963747 -0.61804526 -0.82143658 -0.95207361\n",
      " -1.007129   -1.12351256 -0.74667893  1.42122933  1.13385827  1.18497379\n",
      "  0.92903272  0.59292314  0.58084998  0.65192725  1.31203334  1.15530336\n",
      "  0.60156289  1.43433833  1.57231525  1.361918    1.57407123  1.10104004\n",
      " -0.82047003 -0.6717897  -0.59381484 -0.40266963 -0.27443878 -0.40163268\n",
      " -0.47645656 -0.57112574 -0.75359002 -0.90482991 -1.00654795 -1.10010001\n",
      "  0.84646653  1.33590939  1.12318718  1.05983988  1.30375784  1.41841835\n",
      "  1.3363515   0.78329442  0.72603604  1.06772811  1.03728983  0.94268209\n",
      "  1.58352665  1.40736874  1.56396874  0.96402622 -0.79100683 -0.64317699\n",
      " -0.55055123 -0.35674061 -0.26298786 -0.36483148 -0.35501478 -0.56550535\n",
      " -0.76427867 -0.88093481 -0.95714593  0.26300404  1.49151056  0.60123139\n",
      "  1.23314614  1.143365    1.10292773  1.21793326  1.30989735  1.11852481\n",
      "  1.34363077  1.37704795 -0.41238875  0.42876074  1.77110004  1.48771853\n",
      "  1.67709496  0.81572133 -0.7339355  -0.57912664 -0.47893486 -0.30785098\n",
      " -0.2529033  -0.35287467 -0.42241314 -0.53742101 -0.69523159 -0.48322565\n",
      "  0.57649233  1.85134507  0.9703557   0.90721107  0.53503501  1.08207286\n",
      "  1.22790733  1.24437467  1.30849615  1.11971627  1.34908479 -0.64304466\n",
      " -1.38817988  0.69940517  1.86107934  1.56810302  1.7514223   0.72922458\n",
      " -0.67125106 -0.50747585 -0.42746762 -0.27689345 -0.21764707 -0.31533525\n",
      "  1.09716701  3.09682197  2.34175977  2.00796236  1.85994557  1.78597139\n",
      "  1.49141381  0.76297629  1.11039359  0.69358239  1.21783558  1.32207011\n",
      "  1.30769119  1.4354789  -0.5426532  -1.36111624 -1.24797109  0.81824301\n",
      "  1.96644103  1.71151651  1.86841471  0.54069192 -0.61478549 -0.41894205\n",
      " -0.37391927 -0.23491109 -0.18236822  0.34035482  4.02444776  3.30920932\n",
      "  2.29452031  1.8472915   1.73635327  1.85955328  1.58154728  1.45891677\n",
      "  0.75783736  1.06110739  1.11682494  1.46006007  1.55251473  0.62714951\n",
      " -1.26069746 -1.21787971 -1.12506426  0.83640561  2.11376884  1.84866534\n",
      "  1.99153545  0.45817771 -0.55353411 -0.33494561 -0.31442902 -0.19052615\n",
      " -0.14160236  2.93079659  5.14991601  3.31015404  2.4402553   1.95391685\n",
      "  1.96093639  2.10885636  1.66470037  1.5670484   1.42605195  1.03439231\n",
      "  0.57767735  1.22668387  1.64488703 -1.0901502  -1.14072666 -1.04099027\n",
      " -1.03382637  0.81150532  2.25649299  2.09431908  2.11219737  0.25860424\n",
      " -0.50542985 -0.27819146 -0.26277875 -0.15540351 -0.09737914  0.22730653\n",
      "  4.98953189  4.07372805  2.88331858  2.24493644  2.21334692  2.30127177\n",
      "  1.80874389  1.60351937  1.52082639  1.52471192  1.38291296  1.67601794\n",
      " -0.24487056 -0.97710244 -1.02967184 -0.98082293 -0.93945674  0.89027942\n",
      "  2.46430504  2.25517974  2.33765721  0.20729654 -0.45056135 -0.14513081\n",
      " -0.21182513 -0.11366213 -0.05702124 -0.09821816 -0.1785151   0.31968873\n",
      "  1.37577775  1.90665939  2.4520196   2.67288921  2.2232822   1.87944656\n",
      "  1.67634924  1.53152839  1.4299862  -0.162791   -0.81210479 -0.85896501\n",
      " -0.91661542 -0.87628179 -0.83240929  0.60715159  2.67395709  2.65972227\n",
      "  2.0834714  -0.26792583 -0.40009454 -0.14170013 -0.15920537 -0.08310377\n",
      " -0.02780774 -0.0459571  -0.09752313 -0.20921424 -0.33708195 -0.41731463\n",
      " -0.42712608  0.50525833  1.05313252  1.08014246  0.48423045 -0.21840563\n",
      " -0.76160286 -0.69278859 -0.64574229 -0.68429498 -0.73804133 -0.66329112\n",
      " -0.60337338 -0.47578426  1.14396189  0.57528488  0.0308716  -0.39704551\n",
      " -0.28848398 -0.1579693  -0.0929556  -0.03456268]\n",
      "Associated target 9\n"
     ]
    }
   ],
   "source": [
    "#print(\"First line of one image\", images[11][0])\n",
    "print(\"First line of one image\", images[11])\n",
    "print(\"Associated target\", targets[11])"
   ]
  },
  {
   "cell_type": "markdown",
   "metadata": {},
   "source": [
    "# Create the model\n",
    "![](images/simple_nn.png)"
   ]
  },
  {
   "cell_type": "markdown",
   "metadata": {},
   "source": [
    "# Add the layers"
   ]
  },
  {
   "cell_type": "code",
   "execution_count": 10,
   "metadata": {},
   "outputs": [
    {
     "name": "stdout",
     "output_type": "stream",
     "text": [
      "[[0.13569498 0.04130819 0.02080214 0.10700066 0.04358333 0.05535764\n",
      "  0.03483947 0.17577486 0.11827039 0.26736838]] [9]\n"
     ]
    }
   ],
   "source": [
    "# Flatten\n",
    "model = tensorflow.keras.models.Sequential()\n",
    "#model.add(tf.keras.layers.Flatten(input_shape=[28, 28]))\n",
    "\n",
    "# Add the layers\n",
    "model.add(tensorflow.keras.layers.Dense(256, activation=\"relu\"))\n",
    "model.add(tensorflow.keras.layers.Dense(128, activation=\"relu\"))\n",
    "model.add(tensorflow.keras.layers.Dense(10, activation=\"softmax\"))\n",
    "\n",
    "model_output = model.predict(images[0:1])\n",
    "print(model_output, targets[0:1])"
   ]
  },
  {
   "cell_type": "markdown",
   "metadata": {},
   "source": [
    "## Model Summary"
   ]
  },
  {
   "cell_type": "code",
   "execution_count": 11,
   "metadata": {},
   "outputs": [
    {
     "name": "stdout",
     "output_type": "stream",
     "text": [
      "Model: \"sequential\"\n",
      "_________________________________________________________________\n",
      "Layer (type)                 Output Shape              Param #   \n",
      "=================================================================\n",
      "dense (Dense)                multiple                  200960    \n",
      "_________________________________________________________________\n",
      "dense_1 (Dense)              multiple                  32896     \n",
      "_________________________________________________________________\n",
      "dense_2 (Dense)              multiple                  1290      \n",
      "=================================================================\n",
      "Total params: 235,146\n",
      "Trainable params: 235,146\n",
      "Non-trainable params: 0\n",
      "_________________________________________________________________\n"
     ]
    }
   ],
   "source": [
    "model.summary()"
   ]
  },
  {
   "cell_type": "markdown",
   "metadata": {},
   "source": [
    "## Compile the model"
   ]
  },
  {
   "cell_type": "code",
   "execution_count": 12,
   "metadata": {},
   "outputs": [],
   "source": [
    "# Compile the model\n",
    "model.compile(\n",
    "    loss=\"sparse_categorical_crossentropy\",\n",
    "    optimizer=\"sgd\",\n",
    "    metrics=[\"accuracy\"]\n",
    ")"
   ]
  },
  {
   "cell_type": "markdown",
   "metadata": {},
   "source": [
    "## Train the model"
   ]
  },
  {
   "cell_type": "code",
   "execution_count": 17,
   "metadata": {},
   "outputs": [
    {
     "name": "stdout",
     "output_type": "stream",
     "text": [
      "Train on 6400 samples, validate on 1600 samples\n",
      "Epoch 1/150\n",
      "6400/6400 [==============================] - 0s 59us/sample - loss: 0.5899 - accuracy: 0.7955 - val_loss: 0.6375 - val_accuracy: 0.7713\n",
      "Epoch 2/150\n",
      "6400/6400 [==============================] - 0s 54us/sample - loss: 0.5723 - accuracy: 0.8008 - val_loss: 0.6239 - val_accuracy: 0.7812\n",
      "Epoch 3/150\n",
      "6400/6400 [==============================] - 0s 58us/sample - loss: 0.5567 - accuracy: 0.8061 - val_loss: 0.6107 - val_accuracy: 0.7819\n",
      "Epoch 4/150\n",
      "6400/6400 [==============================] - 1s 79us/sample - loss: 0.5424 - accuracy: 0.8123 - val_loss: 0.6004 - val_accuracy: 0.7844\n",
      "Epoch 5/150\n",
      "6400/6400 [==============================] - 1s 98us/sample - loss: 0.5295 - accuracy: 0.8175 - val_loss: 0.5901 - val_accuracy: 0.7869\n",
      "Epoch 6/150\n",
      "6400/6400 [==============================] - 1s 102us/sample - loss: 0.5177 - accuracy: 0.8220 - val_loss: 0.5815 - val_accuracy: 0.7912\n",
      "Epoch 7/150\n",
      "6400/6400 [==============================] - 1s 83us/sample - loss: 0.5067 - accuracy: 0.8250 - val_loss: 0.5728 - val_accuracy: 0.7912\n",
      "Epoch 8/150\n",
      "6400/6400 [==============================] - 1s 83us/sample - loss: 0.4966 - accuracy: 0.8284 - val_loss: 0.5656 - val_accuracy: 0.7956\n",
      "Epoch 9/150\n",
      "6400/6400 [==============================] - 1s 81us/sample - loss: 0.4871 - accuracy: 0.8345 - val_loss: 0.5589 - val_accuracy: 0.7956\n",
      "Epoch 10/150\n",
      "6400/6400 [==============================] - 1s 86us/sample - loss: 0.4780 - accuracy: 0.8356 - val_loss: 0.5534 - val_accuracy: 0.7950\n",
      "Epoch 11/150\n",
      "6400/6400 [==============================] - 1s 84us/sample - loss: 0.4699 - accuracy: 0.8398 - val_loss: 0.5475 - val_accuracy: 0.8006\n",
      "Epoch 12/150\n",
      "6400/6400 [==============================] - 1s 82us/sample - loss: 0.4623 - accuracy: 0.8413 - val_loss: 0.5426 - val_accuracy: 0.8012\n",
      "Epoch 13/150\n",
      "6400/6400 [==============================] - 1s 83us/sample - loss: 0.4547 - accuracy: 0.8450 - val_loss: 0.5371 - val_accuracy: 0.8037\n",
      "Epoch 14/150\n",
      "6400/6400 [==============================] - 1s 83us/sample - loss: 0.4478 - accuracy: 0.8459 - val_loss: 0.5323 - val_accuracy: 0.8050\n",
      "Epoch 15/150\n",
      "6400/6400 [==============================] - 1s 82us/sample - loss: 0.4414 - accuracy: 0.8484 - val_loss: 0.5285 - val_accuracy: 0.8081\n",
      "Epoch 16/150\n",
      "6400/6400 [==============================] - 1s 84us/sample - loss: 0.4351 - accuracy: 0.8500 - val_loss: 0.5251 - val_accuracy: 0.8100\n",
      "Epoch 17/150\n",
      "6400/6400 [==============================] - 0s 77us/sample - loss: 0.4291 - accuracy: 0.8531 - val_loss: 0.5212 - val_accuracy: 0.8119\n",
      "Epoch 18/150\n",
      "6400/6400 [==============================] - 0s 72us/sample - loss: 0.4230 - accuracy: 0.8559 - val_loss: 0.5185 - val_accuracy: 0.8106\n",
      "Epoch 19/150\n",
      "6400/6400 [==============================] - 0s 60us/sample - loss: 0.4180 - accuracy: 0.8580 - val_loss: 0.5153 - val_accuracy: 0.8144\n",
      "Epoch 20/150\n",
      "6400/6400 [==============================] - 0s 64us/sample - loss: 0.4127 - accuracy: 0.8591 - val_loss: 0.5120 - val_accuracy: 0.8138\n",
      "Epoch 21/150\n",
      "6400/6400 [==============================] - 0s 58us/sample - loss: 0.4082 - accuracy: 0.8606 - val_loss: 0.5089 - val_accuracy: 0.8169\n",
      "Epoch 22/150\n",
      "6400/6400 [==============================] - 0s 59us/sample - loss: 0.4030 - accuracy: 0.8619 - val_loss: 0.5067 - val_accuracy: 0.8181\n",
      "Epoch 23/150\n",
      "6400/6400 [==============================] - 0s 55us/sample - loss: 0.3985 - accuracy: 0.8644 - val_loss: 0.5041 - val_accuracy: 0.8175\n",
      "Epoch 24/150\n",
      "6400/6400 [==============================] - 0s 54us/sample - loss: 0.3940 - accuracy: 0.8659 - val_loss: 0.5020 - val_accuracy: 0.8175\n",
      "Epoch 25/150\n",
      "6400/6400 [==============================] - 0s 55us/sample - loss: 0.3898 - accuracy: 0.8681 - val_loss: 0.4999 - val_accuracy: 0.8188\n",
      "Epoch 26/150\n",
      "6400/6400 [==============================] - 0s 55us/sample - loss: 0.3856 - accuracy: 0.8691 - val_loss: 0.4975 - val_accuracy: 0.8206\n",
      "Epoch 27/150\n",
      "6400/6400 [==============================] - 0s 54us/sample - loss: 0.3817 - accuracy: 0.8700 - val_loss: 0.4966 - val_accuracy: 0.8200\n",
      "Epoch 28/150\n",
      "6400/6400 [==============================] - 0s 60us/sample - loss: 0.3778 - accuracy: 0.8723 - val_loss: 0.4934 - val_accuracy: 0.8206\n",
      "Epoch 29/150\n",
      "6400/6400 [==============================] - 0s 60us/sample - loss: 0.3738 - accuracy: 0.8739 - val_loss: 0.4913 - val_accuracy: 0.8256\n",
      "Epoch 30/150\n",
      "6400/6400 [==============================] - 0s 56us/sample - loss: 0.3704 - accuracy: 0.8748 - val_loss: 0.4904 - val_accuracy: 0.8250\n",
      "Epoch 31/150\n",
      "6400/6400 [==============================] - 0s 69us/sample - loss: 0.3666 - accuracy: 0.8764 - val_loss: 0.4887 - val_accuracy: 0.8244\n",
      "Epoch 32/150\n",
      "6400/6400 [==============================] - 0s 69us/sample - loss: 0.3635 - accuracy: 0.8778 - val_loss: 0.4869 - val_accuracy: 0.8263\n",
      "Epoch 33/150\n",
      "6400/6400 [==============================] - 0s 62us/sample - loss: 0.3598 - accuracy: 0.8784 - val_loss: 0.4856 - val_accuracy: 0.8263\n",
      "Epoch 34/150\n",
      "6400/6400 [==============================] - 0s 76us/sample - loss: 0.3568 - accuracy: 0.8797 - val_loss: 0.4838 - val_accuracy: 0.8275\n",
      "Epoch 35/150\n",
      "6400/6400 [==============================] - 0s 59us/sample - loss: 0.3534 - accuracy: 0.8808 - val_loss: 0.4821 - val_accuracy: 0.8288\n",
      "Epoch 36/150\n",
      "6400/6400 [==============================] - 0s 73us/sample - loss: 0.3504 - accuracy: 0.8816 - val_loss: 0.4806 - val_accuracy: 0.8275\n",
      "Epoch 37/150\n",
      "6400/6400 [==============================] - 1s 87us/sample - loss: 0.3474 - accuracy: 0.8817 - val_loss: 0.4794 - val_accuracy: 0.8281\n",
      "Epoch 38/150\n",
      "6400/6400 [==============================] - 1s 100us/sample - loss: 0.3444 - accuracy: 0.8852 - val_loss: 0.4785 - val_accuracy: 0.8313\n",
      "Epoch 39/150\n",
      "6400/6400 [==============================] - 1s 110us/sample - loss: 0.3414 - accuracy: 0.8856 - val_loss: 0.4778 - val_accuracy: 0.8313\n",
      "Epoch 40/150\n",
      "6400/6400 [==============================] - 1s 109us/sample - loss: 0.3386 - accuracy: 0.8863 - val_loss: 0.4757 - val_accuracy: 0.8313\n",
      "Epoch 41/150\n",
      "6400/6400 [==============================] - 1s 86us/sample - loss: 0.3358 - accuracy: 0.8875 - val_loss: 0.4750 - val_accuracy: 0.8281\n",
      "Epoch 42/150\n",
      "6400/6400 [==============================] - 0s 76us/sample - loss: 0.3331 - accuracy: 0.8888 - val_loss: 0.4745 - val_accuracy: 0.8306\n",
      "Epoch 43/150\n",
      "6400/6400 [==============================] - 1s 82us/sample - loss: 0.3304 - accuracy: 0.8894 - val_loss: 0.4728 - val_accuracy: 0.8313\n",
      "Epoch 44/150\n",
      "6400/6400 [==============================] - 0s 73us/sample - loss: 0.3276 - accuracy: 0.8906 - val_loss: 0.4725 - val_accuracy: 0.8313\n",
      "Epoch 45/150\n",
      "6400/6400 [==============================] - 1s 86us/sample - loss: 0.3251 - accuracy: 0.8911 - val_loss: 0.4702 - val_accuracy: 0.8306\n",
      "Epoch 46/150\n",
      "6400/6400 [==============================] - 0s 66us/sample - loss: 0.3223 - accuracy: 0.8933 - val_loss: 0.4695 - val_accuracy: 0.8325\n",
      "Epoch 47/150\n",
      "6400/6400 [==============================] - 0s 61us/sample - loss: 0.3201 - accuracy: 0.8934 - val_loss: 0.4687 - val_accuracy: 0.8331\n",
      "Epoch 48/150\n",
      "6400/6400 [==============================] - 0s 71us/sample - loss: 0.3175 - accuracy: 0.8930 - val_loss: 0.4681 - val_accuracy: 0.8331\n",
      "Epoch 49/150\n",
      "6400/6400 [==============================] - 0s 67us/sample - loss: 0.3152 - accuracy: 0.8956 - val_loss: 0.4670 - val_accuracy: 0.8325\n",
      "Epoch 50/150\n",
      "6400/6400 [==============================] - 0s 76us/sample - loss: 0.3125 - accuracy: 0.8952 - val_loss: 0.4659 - val_accuracy: 0.8338\n",
      "Epoch 51/150\n",
      "6400/6400 [==============================] - 0s 66us/sample - loss: 0.3104 - accuracy: 0.8966 - val_loss: 0.4657 - val_accuracy: 0.8331\n",
      "Epoch 52/150\n",
      "6400/6400 [==============================] - 1s 79us/sample - loss: 0.3079 - accuracy: 0.8972 - val_loss: 0.4646 - val_accuracy: 0.8356\n",
      "Epoch 53/150\n",
      "6400/6400 [==============================] - 1s 91us/sample - loss: 0.3057 - accuracy: 0.8972 - val_loss: 0.4644 - val_accuracy: 0.8331\n",
      "Epoch 54/150\n",
      "6400/6400 [==============================] - 1s 84us/sample - loss: 0.3035 - accuracy: 0.8986 - val_loss: 0.4635 - val_accuracy: 0.8350\n",
      "Epoch 55/150\n",
      "6400/6400 [==============================] - 1s 92us/sample - loss: 0.3012 - accuracy: 0.8994 - val_loss: 0.4629 - val_accuracy: 0.8363\n"
     ]
    },
    {
     "name": "stdout",
     "output_type": "stream",
     "text": [
      "Epoch 56/150\n",
      "6400/6400 [==============================] - 0s 70us/sample - loss: 0.2992 - accuracy: 0.8998 - val_loss: 0.4618 - val_accuracy: 0.8356\n",
      "Epoch 57/150\n",
      "6400/6400 [==============================] - 0s 62us/sample - loss: 0.2968 - accuracy: 0.9014 - val_loss: 0.4612 - val_accuracy: 0.8331\n",
      "Epoch 58/150\n",
      "6400/6400 [==============================] - 0s 55us/sample - loss: 0.2950 - accuracy: 0.9017 - val_loss: 0.4597 - val_accuracy: 0.8363\n",
      "Epoch 59/150\n",
      "6400/6400 [==============================] - 0s 55us/sample - loss: 0.2927 - accuracy: 0.9031 - val_loss: 0.4589 - val_accuracy: 0.8369\n",
      "Epoch 60/150\n",
      "6400/6400 [==============================] - 0s 55us/sample - loss: 0.2907 - accuracy: 0.9047 - val_loss: 0.4590 - val_accuracy: 0.8344\n",
      "Epoch 61/150\n",
      "6400/6400 [==============================] - 0s 55us/sample - loss: 0.2885 - accuracy: 0.9044 - val_loss: 0.4591 - val_accuracy: 0.8356\n",
      "Epoch 62/150\n",
      "6400/6400 [==============================] - 0s 62us/sample - loss: 0.2866 - accuracy: 0.9047 - val_loss: 0.4586 - val_accuracy: 0.8356\n",
      "Epoch 63/150\n",
      "6400/6400 [==============================] - 0s 76us/sample - loss: 0.2846 - accuracy: 0.9084 - val_loss: 0.4570 - val_accuracy: 0.8375\n",
      "Epoch 64/150\n",
      "6400/6400 [==============================] - 0s 73us/sample - loss: 0.2826 - accuracy: 0.9069 - val_loss: 0.4563 - val_accuracy: 0.8363\n",
      "Epoch 65/150\n",
      "6400/6400 [==============================] - 0s 75us/sample - loss: 0.2805 - accuracy: 0.9077 - val_loss: 0.4558 - val_accuracy: 0.8363\n",
      "Epoch 66/150\n",
      "6400/6400 [==============================] - 1s 80us/sample - loss: 0.2786 - accuracy: 0.9092 - val_loss: 0.4557 - val_accuracy: 0.8375\n",
      "Epoch 67/150\n",
      "6400/6400 [==============================] - 0s 71us/sample - loss: 0.2767 - accuracy: 0.9100 - val_loss: 0.4544 - val_accuracy: 0.8406\n",
      "Epoch 68/150\n",
      "6400/6400 [==============================] - 0s 71us/sample - loss: 0.2749 - accuracy: 0.9111 - val_loss: 0.4548 - val_accuracy: 0.8388\n",
      "Epoch 69/150\n",
      "6400/6400 [==============================] - 0s 55us/sample - loss: 0.2731 - accuracy: 0.9117 - val_loss: 0.4547 - val_accuracy: 0.8394\n",
      "Epoch 70/150\n",
      "6400/6400 [==============================] - 0s 71us/sample - loss: 0.2712 - accuracy: 0.9122 - val_loss: 0.4539 - val_accuracy: 0.8400\n",
      "Epoch 71/150\n",
      "6400/6400 [==============================] - 0s 65us/sample - loss: 0.2693 - accuracy: 0.9125 - val_loss: 0.4531 - val_accuracy: 0.8388\n",
      "Epoch 72/150\n",
      "6400/6400 [==============================] - 0s 65us/sample - loss: 0.2674 - accuracy: 0.9155 - val_loss: 0.4526 - val_accuracy: 0.8406\n",
      "Epoch 73/150\n",
      "6400/6400 [==============================] - 0s 70us/sample - loss: 0.2658 - accuracy: 0.9159 - val_loss: 0.4526 - val_accuracy: 0.8388\n",
      "Epoch 74/150\n",
      "6400/6400 [==============================] - 0s 60us/sample - loss: 0.2638 - accuracy: 0.9159 - val_loss: 0.4522 - val_accuracy: 0.8400\n",
      "Epoch 75/150\n",
      "6400/6400 [==============================] - 0s 62us/sample - loss: 0.2620 - accuracy: 0.9162 - val_loss: 0.4522 - val_accuracy: 0.8400\n",
      "Epoch 76/150\n",
      "6400/6400 [==============================] - 0s 61us/sample - loss: 0.2601 - accuracy: 0.9169 - val_loss: 0.4500 - val_accuracy: 0.8381\n",
      "Epoch 77/150\n",
      "6400/6400 [==============================] - 0s 53us/sample - loss: 0.2589 - accuracy: 0.9186 - val_loss: 0.4501 - val_accuracy: 0.8406\n",
      "Epoch 78/150\n",
      "6400/6400 [==============================] - 1s 84us/sample - loss: 0.2571 - accuracy: 0.9191 - val_loss: 0.4504 - val_accuracy: 0.8444\n",
      "Epoch 79/150\n",
      "6400/6400 [==============================] - 0s 64us/sample - loss: 0.2554 - accuracy: 0.9192 - val_loss: 0.4504 - val_accuracy: 0.8406\n",
      "Epoch 80/150\n",
      "6400/6400 [==============================] - 0s 61us/sample - loss: 0.2536 - accuracy: 0.9200 - val_loss: 0.4495 - val_accuracy: 0.8413\n",
      "Epoch 81/150\n",
      "6400/6400 [==============================] - 0s 62us/sample - loss: 0.2519 - accuracy: 0.9205 - val_loss: 0.4492 - val_accuracy: 0.8388\n",
      "Epoch 82/150\n",
      "6400/6400 [==============================] - 1s 91us/sample - loss: 0.2505 - accuracy: 0.9219 - val_loss: 0.4487 - val_accuracy: 0.8419\n",
      "Epoch 83/150\n",
      "6400/6400 [==============================] - 0s 72us/sample - loss: 0.2486 - accuracy: 0.9223 - val_loss: 0.4484 - val_accuracy: 0.8419\n",
      "Epoch 84/150\n",
      "6400/6400 [==============================] - 0s 66us/sample - loss: 0.2471 - accuracy: 0.9222 - val_loss: 0.4486 - val_accuracy: 0.8431\n",
      "Epoch 85/150\n",
      "6400/6400 [==============================] - 0s 71us/sample - loss: 0.2456 - accuracy: 0.9244 - val_loss: 0.4476 - val_accuracy: 0.8419\n",
      "Epoch 86/150\n",
      "6400/6400 [==============================] - 0s 61us/sample - loss: 0.2439 - accuracy: 0.9233 - val_loss: 0.4476 - val_accuracy: 0.8425\n",
      "Epoch 87/150\n",
      "6400/6400 [==============================] - 0s 69us/sample - loss: 0.2424 - accuracy: 0.9252 - val_loss: 0.4468 - val_accuracy: 0.8425\n",
      "Epoch 88/150\n",
      "6400/6400 [==============================] - 0s 67us/sample - loss: 0.2407 - accuracy: 0.9250 - val_loss: 0.4483 - val_accuracy: 0.8444\n",
      "Epoch 89/150\n",
      "6400/6400 [==============================] - 0s 57us/sample - loss: 0.2393 - accuracy: 0.9256 - val_loss: 0.4478 - val_accuracy: 0.8413\n",
      "Epoch 90/150\n",
      "6400/6400 [==============================] - 0s 56us/sample - loss: 0.2379 - accuracy: 0.9267 - val_loss: 0.4462 - val_accuracy: 0.8413\n",
      "Epoch 91/150\n",
      "6400/6400 [==============================] - 0s 70us/sample - loss: 0.2362 - accuracy: 0.9273 - val_loss: 0.4456 - val_accuracy: 0.8444\n",
      "Epoch 92/150\n",
      "6400/6400 [==============================] - 0s 70us/sample - loss: 0.2348 - accuracy: 0.9280 - val_loss: 0.4449 - val_accuracy: 0.8431\n",
      "Epoch 93/150\n",
      "6400/6400 [==============================] - 0s 64us/sample - loss: 0.2333 - accuracy: 0.9283 - val_loss: 0.4459 - val_accuracy: 0.8438\n",
      "Epoch 94/150\n",
      "6400/6400 [==============================] - 1s 80us/sample - loss: 0.2318 - accuracy: 0.9292 - val_loss: 0.4451 - val_accuracy: 0.8431\n",
      "Epoch 95/150\n",
      "6400/6400 [==============================] - 0s 78us/sample - loss: 0.2303 - accuracy: 0.9297 - val_loss: 0.4444 - val_accuracy: 0.8413\n",
      "Epoch 96/150\n",
      "6400/6400 [==============================] - 0s 61us/sample - loss: 0.2291 - accuracy: 0.9291 - val_loss: 0.4453 - val_accuracy: 0.8431\n",
      "Epoch 97/150\n",
      "6400/6400 [==============================] - 0s 56us/sample - loss: 0.2273 - accuracy: 0.9305 - val_loss: 0.4436 - val_accuracy: 0.8400\n",
      "Epoch 98/150\n",
      "6400/6400 [==============================] - 0s 53us/sample - loss: 0.2257 - accuracy: 0.9309 - val_loss: 0.4458 - val_accuracy: 0.8438\n",
      "Epoch 99/150\n",
      "6400/6400 [==============================] - 0s 63us/sample - loss: 0.2247 - accuracy: 0.9311 - val_loss: 0.4434 - val_accuracy: 0.8438\n",
      "Epoch 100/150\n",
      "6400/6400 [==============================] - 0s 60us/sample - loss: 0.2232 - accuracy: 0.9308 - val_loss: 0.4449 - val_accuracy: 0.8431\n",
      "Epoch 101/150\n",
      "6400/6400 [==============================] - 0s 56us/sample - loss: 0.2217 - accuracy: 0.9339 - val_loss: 0.4452 - val_accuracy: 0.8450\n",
      "Epoch 102/150\n",
      "6400/6400 [==============================] - 0s 72us/sample - loss: 0.2205 - accuracy: 0.9316 - val_loss: 0.4444 - val_accuracy: 0.8431\n",
      "Epoch 103/150\n",
      "6400/6400 [==============================] - 0s 54us/sample - loss: 0.2191 - accuracy: 0.9337 - val_loss: 0.4443 - val_accuracy: 0.8438\n",
      "Epoch 104/150\n",
      "6400/6400 [==============================] - 0s 55us/sample - loss: 0.2177 - accuracy: 0.9345 - val_loss: 0.4435 - val_accuracy: 0.8438\n",
      "Epoch 105/150\n",
      "6400/6400 [==============================] - 0s 52us/sample - loss: 0.2163 - accuracy: 0.9344 - val_loss: 0.4430 - val_accuracy: 0.8444\n",
      "Epoch 106/150\n",
      "6400/6400 [==============================] - 0s 51us/sample - loss: 0.2150 - accuracy: 0.9353 - val_loss: 0.4429 - val_accuracy: 0.8425\n",
      "Epoch 107/150\n",
      "6400/6400 [==============================] - 0s 50us/sample - loss: 0.2137 - accuracy: 0.9359 - val_loss: 0.4431 - val_accuracy: 0.8419\n",
      "Epoch 108/150\n",
      "6400/6400 [==============================] - 0s 54us/sample - loss: 0.2124 - accuracy: 0.9366 - val_loss: 0.4433 - val_accuracy: 0.8438\n",
      "Epoch 109/150\n",
      "6400/6400 [==============================] - 0s 54us/sample - loss: 0.2111 - accuracy: 0.9362 - val_loss: 0.4424 - val_accuracy: 0.8425\n",
      "Epoch 110/150\n",
      "6400/6400 [==============================] - 0s 61us/sample - loss: 0.2098 - accuracy: 0.9364 - val_loss: 0.4439 - val_accuracy: 0.8425\n"
     ]
    },
    {
     "name": "stdout",
     "output_type": "stream",
     "text": [
      "Epoch 111/150\n",
      "6400/6400 [==============================] - 0s 56us/sample - loss: 0.2083 - accuracy: 0.9366 - val_loss: 0.4433 - val_accuracy: 0.8419\n",
      "Epoch 112/150\n",
      "6400/6400 [==============================] - 0s 50us/sample - loss: 0.2071 - accuracy: 0.9378 - val_loss: 0.4437 - val_accuracy: 0.8450\n",
      "Epoch 113/150\n",
      "6400/6400 [==============================] - 0s 52us/sample - loss: 0.2058 - accuracy: 0.9384 - val_loss: 0.4425 - val_accuracy: 0.8413\n",
      "Epoch 114/150\n",
      "6400/6400 [==============================] - 0s 52us/sample - loss: 0.2045 - accuracy: 0.9394 - val_loss: 0.4421 - val_accuracy: 0.8425\n",
      "Epoch 115/150\n",
      "6400/6400 [==============================] - 0s 52us/sample - loss: 0.2032 - accuracy: 0.9388 - val_loss: 0.4426 - val_accuracy: 0.8431\n",
      "Epoch 116/150\n",
      "6400/6400 [==============================] - 0s 49us/sample - loss: 0.2022 - accuracy: 0.9405 - val_loss: 0.4431 - val_accuracy: 0.8469\n",
      "Epoch 117/150\n",
      "6400/6400 [==============================] - 0s 52us/sample - loss: 0.2005 - accuracy: 0.9413 - val_loss: 0.4429 - val_accuracy: 0.8456\n",
      "Epoch 118/150\n",
      "6400/6400 [==============================] - 0s 52us/sample - loss: 0.1998 - accuracy: 0.9411 - val_loss: 0.4420 - val_accuracy: 0.8456\n",
      "Epoch 119/150\n",
      "6400/6400 [==============================] - 0s 54us/sample - loss: 0.1984 - accuracy: 0.9414 - val_loss: 0.4416 - val_accuracy: 0.8456\n",
      "Epoch 120/150\n",
      "6400/6400 [==============================] - 0s 54us/sample - loss: 0.1971 - accuracy: 0.9427 - val_loss: 0.4426 - val_accuracy: 0.8450\n",
      "Epoch 121/150\n",
      "6400/6400 [==============================] - 0s 54us/sample - loss: 0.1960 - accuracy: 0.9428 - val_loss: 0.4425 - val_accuracy: 0.8469\n",
      "Epoch 122/150\n",
      "6400/6400 [==============================] - 0s 53us/sample - loss: 0.1949 - accuracy: 0.9433 - val_loss: 0.4422 - val_accuracy: 0.8481\n",
      "Epoch 123/150\n",
      "6400/6400 [==============================] - 0s 50us/sample - loss: 0.1937 - accuracy: 0.9433 - val_loss: 0.4427 - val_accuracy: 0.8462\n",
      "Epoch 124/150\n",
      "6400/6400 [==============================] - 0s 52us/sample - loss: 0.1924 - accuracy: 0.9444 - val_loss: 0.4418 - val_accuracy: 0.8469\n",
      "Epoch 125/150\n",
      "6400/6400 [==============================] - 0s 58us/sample - loss: 0.1914 - accuracy: 0.9447 - val_loss: 0.4416 - val_accuracy: 0.8462\n",
      "Epoch 126/150\n",
      "6400/6400 [==============================] - 0s 57us/sample - loss: 0.1900 - accuracy: 0.9448 - val_loss: 0.4419 - val_accuracy: 0.8456\n",
      "Epoch 127/150\n",
      "6400/6400 [==============================] - 0s 59us/sample - loss: 0.1889 - accuracy: 0.9452 - val_loss: 0.4423 - val_accuracy: 0.8462\n",
      "Epoch 128/150\n",
      "6400/6400 [==============================] - 0s 54us/sample - loss: 0.1878 - accuracy: 0.9469 - val_loss: 0.4416 - val_accuracy: 0.8444\n",
      "Epoch 129/150\n",
      "6400/6400 [==============================] - 0s 52us/sample - loss: 0.1867 - accuracy: 0.9459 - val_loss: 0.4416 - val_accuracy: 0.8469\n",
      "Epoch 130/150\n",
      "6400/6400 [==============================] - 0s 60us/sample - loss: 0.1856 - accuracy: 0.9469 - val_loss: 0.4421 - val_accuracy: 0.8456\n",
      "Epoch 131/150\n",
      "6400/6400 [==============================] - 0s 65us/sample - loss: 0.1843 - accuracy: 0.9477 - val_loss: 0.4421 - val_accuracy: 0.8494\n",
      "Epoch 132/150\n",
      "6400/6400 [==============================] - 0s 60us/sample - loss: 0.1831 - accuracy: 0.9483 - val_loss: 0.4433 - val_accuracy: 0.8456\n",
      "Epoch 133/150\n",
      "6400/6400 [==============================] - 0s 61us/sample - loss: 0.1821 - accuracy: 0.9480 - val_loss: 0.4431 - val_accuracy: 0.8500\n",
      "Epoch 134/150\n",
      "6400/6400 [==============================] - 0s 69us/sample - loss: 0.1811 - accuracy: 0.9472 - val_loss: 0.4422 - val_accuracy: 0.8475\n",
      "Epoch 135/150\n",
      "6400/6400 [==============================] - 0s 60us/sample - loss: 0.1800 - accuracy: 0.9497 - val_loss: 0.4422 - val_accuracy: 0.8475\n",
      "Epoch 136/150\n",
      "6400/6400 [==============================] - 0s 72us/sample - loss: 0.1789 - accuracy: 0.9495 - val_loss: 0.4418 - val_accuracy: 0.8462\n",
      "Epoch 137/150\n",
      "6400/6400 [==============================] - 0s 57us/sample - loss: 0.1777 - accuracy: 0.9500 - val_loss: 0.4425 - val_accuracy: 0.8475\n",
      "Epoch 138/150\n",
      "6400/6400 [==============================] - 0s 53us/sample - loss: 0.1767 - accuracy: 0.9513 - val_loss: 0.4419 - val_accuracy: 0.8475\n",
      "Epoch 139/150\n",
      "6400/6400 [==============================] - 0s 51us/sample - loss: 0.1755 - accuracy: 0.9505 - val_loss: 0.4430 - val_accuracy: 0.8481\n",
      "Epoch 140/150\n",
      "6400/6400 [==============================] - 0s 50us/sample - loss: 0.1746 - accuracy: 0.9516 - val_loss: 0.4427 - val_accuracy: 0.8487\n",
      "Epoch 141/150\n",
      "6400/6400 [==============================] - 0s 57us/sample - loss: 0.1735 - accuracy: 0.9514 - val_loss: 0.4429 - val_accuracy: 0.8487\n",
      "Epoch 142/150\n",
      "6400/6400 [==============================] - 0s 62us/sample - loss: 0.1727 - accuracy: 0.9519 - val_loss: 0.4422 - val_accuracy: 0.8469\n",
      "Epoch 143/150\n",
      "6400/6400 [==============================] - 0s 53us/sample - loss: 0.1714 - accuracy: 0.9522 - val_loss: 0.4429 - val_accuracy: 0.8487\n",
      "Epoch 144/150\n",
      "6400/6400 [==============================] - 0s 60us/sample - loss: 0.1704 - accuracy: 0.9527 - val_loss: 0.4428 - val_accuracy: 0.8481\n",
      "Epoch 145/150\n",
      "6400/6400 [==============================] - 0s 75us/sample - loss: 0.1695 - accuracy: 0.9530 - val_loss: 0.4435 - val_accuracy: 0.8469\n",
      "Epoch 146/150\n",
      "6400/6400 [==============================] - 0s 62us/sample - loss: 0.1684 - accuracy: 0.9545 - val_loss: 0.4435 - val_accuracy: 0.8487\n",
      "Epoch 147/150\n",
      "6400/6400 [==============================] - 0s 60us/sample - loss: 0.1673 - accuracy: 0.9541 - val_loss: 0.4438 - val_accuracy: 0.8481\n",
      "Epoch 148/150\n",
      "6400/6400 [==============================] - 0s 59us/sample - loss: 0.1665 - accuracy: 0.9542 - val_loss: 0.4430 - val_accuracy: 0.8456\n",
      "Epoch 149/150\n",
      "6400/6400 [==============================] - 0s 57us/sample - loss: 0.1653 - accuracy: 0.9548 - val_loss: 0.4426 - val_accuracy: 0.8456\n",
      "Epoch 150/150\n",
      "6400/6400 [==============================] - 0s 55us/sample - loss: 0.1643 - accuracy: 0.9553 - val_loss: 0.4426 - val_accuracy: 0.8469\n"
     ]
    }
   ],
   "source": [
    "history = model.fit(images_train, targets_train, epochs=150, validation_split=0.2)"
   ]
  },
  {
   "cell_type": "code",
   "execution_count": 18,
   "metadata": {},
   "outputs": [
    {
     "data": {
      "image/png": "[encoded data removed]",
      "text/plain": [
       "<Figure size 432x288 with 1 Axes>"
      ]
     },
     "metadata": {
      "needs_background": "light"
     },
     "output_type": "display_data"
    },
    {
     "data": {
      "image/png": "[encoded data removed]",
      "text/plain": [
       "<Figure size 432x288 with 1 Axes>"
      ]
     },
     "metadata": {
      "needs_background": "light"
     },
     "output_type": "display_data"
    }
   ],
   "source": [
    "loss_curve = history.history[\"loss\"]\n",
    "acc_curve = history.history[\"accuracy\"]\n",
    "\n",
    "loss_val_curve = history.history[\"val_loss\"]\n",
    "acc_val_curve = history.history[\"val_accuracy\"]\n",
    "\n",
    "matplotlib.pyplot.plot(loss_curve, label=\"Train\")\n",
    "matplotlib.pyplot.plot(loss_val_curve, label=\"Val\")\n",
    "matplotlib.pyplot.legend(loc='upper left')\n",
    "matplotlib.pyplot.title(\"Loss\")\n",
    "matplotlib.pyplot.show()\n",
    "\n",
    "matplotlib.pyplot.plot(acc_curve, label=\"Train\")\n",
    "matplotlib.pyplot.plot(acc_val_curve, label=\"Val\")\n",
    "matplotlib.pyplot.legend(loc='upper left')\n",
    "matplotlib.pyplot.title(\"Accuracy\")\n",
    "matplotlib.pyplot.show()"
   ]
  },
  {
   "cell_type": "code",
   "execution_count": 19,
   "metadata": {},
   "outputs": [
    {
     "name": "stdout",
     "output_type": "stream",
     "text": [
      "2000/2000 [==============================] - 0s 34us/sample - loss: 0.4293 - accuracy: 0.8595\n",
      "Test loss 0.42934793841838836\n",
      "Train accuracy 0.8595\n"
     ]
    }
   ],
   "source": [
    "loss, acc = model.evaluate(images_test, targets_test)\n",
    "print(\"Test loss\", loss)\n",
    "print(\"Train accuracy\", acc)"
   ]
  },
  {
   "cell_type": "code",
   "execution_count": null,
   "metadata": {},
   "outputs": [],
   "source": []
  }
 ],
 "metadata": {
  "kernelspec": {
   "display_name": "Python 3",
   "language": "python",
   "name": "python3"
  },
  "language_info": {
   "codemirror_mode": {
    "name": "ipython",
    "version": 3
   },
   "file_extension": ".py",
   "mimetype": "text/x-python",
   "name": "python",
   "nbconvert_exporter": "python",
   "pygments_lexer": "ipython3",
   "version": "3.7.6"
  }
 },
 "nbformat": 4,
 "nbformat_minor": 2
}
